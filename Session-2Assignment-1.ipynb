{
 "cells": [
  {
   "cell_type": "code",
   "execution_count": 8,
   "metadata": {},
   "outputs": [
    {
     "name": "stdout",
     "output_type": "stream",
     "text": [
      "100,101,111,121,131,141,151\n",
      "['100', '101', '111', '121', '131', '141', '151']\n",
      "('100', '101', '111', '121', '131', '141', '151')\n"
     ]
    }
   ],
   "source": [
    "#1. Write a program which accepts a sequence of comma-separated numbers from console and generate a list.\n",
    "\n",
    "\n",
    "lst = input().split(',')  # the input is being taken as string and as it is string it has a built in\n",
    "                          # method name split. ',' inside split function does split where it finds any ','\n",
    "                          # and save the input as list in lst variable\n",
    "\n",
    "tpl = tuple(lst)          # tuple method converts list to tuple\n",
    "\n",
    "print(lst)\n",
    "print(tpl)"
   ]
  },
  {
   "cell_type": "code",
   "execution_count": 10,
   "metadata": {},
   "outputs": [
    {
     "name": "stdout",
     "output_type": "stream",
     "text": [
      "Enter max star to be display on single line5\n",
      "* \n",
      "* * \n",
      "* * * \n",
      "* * * * \n",
      "* * * * * \n",
      "* * * * \n",
      "* * * \n",
      "* * \n",
      "* \n",
      "\n"
     ]
    }
   ],
   "source": [
    "#2. Create the below pattern using nested for loop in Python.\n",
    "#*\n",
    "#* *\n",
    "#* * *\n",
    "#* * * *\n",
    "#* * * * *\n",
    "#* * * *\n",
    "#* * *\n",
    "#* *\n",
    "#*\n",
    "rows = input(\"Enter max star to be display on single line\")\n",
    "rows = int (rows)\n",
    "for i in range (0, rows):\n",
    "    for j in range(0, i + 1):\n",
    "        print(\"*\", end=' ')\n",
    "    print(\"\\r\")\n",
    "\n",
    "for i in range (rows, 0, -1):\n",
    "    for j in range(0, i -1):\n",
    "        print(\"*\", end=' ')\n",
    "    print(\"\\r\")"
   ]
  },
  {
   "cell_type": "code",
   "execution_count": 12,
   "metadata": {},
   "outputs": [
    {
     "name": "stdout",
     "output_type": "stream",
     "text": [
      "Enter word to be reversed :  AcadGild\n",
      "Reversed word : dliGdacA\n"
     ]
    }
   ],
   "source": [
    "\n",
    "\n",
    "#3.Write a Python program to reverse a word after accepting the input from the user.\n",
    "\n",
    "#Sample Output:\n",
    "\n",
    "#Input word: AcadGild\n",
    "\n",
    "# Output: dilGdacA\n",
    "\n",
    "\n",
    "\n",
    "\n",
    "input_word = input(\"Enter word to be reversed :  \").strip()\n",
    "\n",
    "print (\"Reversed word : \" + input_word[::-1])"
   ]
  },
  {
   "cell_type": "code",
   "execution_count": 13,
   "metadata": {},
   "outputs": [
    {
     "name": "stdout",
     "output_type": "stream",
     "text": [
      "WE, THE PEOPLE OF INDIA,\n",
      "\thaving solemnly resolved to constitute India into a SOVEREIGN,!\n",
      "\t\tSOCIALIST, SECULAR, DEMOCRATIC REPUBLIC\n",
      "\t\tand to secure to all its citizens:\n"
     ]
    }
   ],
   "source": [
    "#4. Write a Python Program to print the given string in the format specified in the sample output.\n",
    "\n",
    "#WE, THE PEOPLE OF INDIA, having solemnly resolved to constitute India into a SOVEREIGN,\n",
    "#SOCIALIST, SECULAR, DEMOCRATIC REPUBLIC and to secure to all its citizens\n",
    "#Sample Output:\n",
    "#WE, THE PEOPLE OF INDIA,\n",
    "#having solemnly resolved to constitute India into a SOVEREIGN, !\n",
    "#SOCIALIST, SECULAR, DEMOCRATIC\n",
    "#REPUBLIC and to secure to all its citizens\n",
    "\n",
    "\n",
    "string = \"WE, THE PEOPLE OF INDIA,{}having solemnly resolved to constitute India into a SOVEREIGN,{}SOCIALIST, SECULAR, DEMOCRATIC REPUBLIC{}and to secure to all its citizens{}\"\n",
    "\n",
    "print(string.format('\\n\\t','!\\n\\t\\t','\\n\\t\\t',':'))"
   ]
  }
 ],
 "metadata": {
  "kernelspec": {
   "display_name": "Python 3",
   "language": "python",
   "name": "python3"
  },
  "language_info": {
   "codemirror_mode": {
    "name": "ipython",
    "version": 3
   },
   "file_extension": ".py",
   "mimetype": "text/x-python",
   "name": "python",
   "nbconvert_exporter": "python",
   "pygments_lexer": "ipython3",
   "version": "3.7.3"
  }
 },
 "nbformat": 4,
 "nbformat_minor": 2
}
